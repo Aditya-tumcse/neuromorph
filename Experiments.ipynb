{
 "cells": [
  {
   "cell_type": "markdown",
   "id": "15e83e8e",
   "metadata": {},
   "source": [
    "## SMAL Dataset study"
   ]
  },
  {
   "cell_type": "code",
   "execution_count": 2,
   "id": "be4e72e7",
   "metadata": {},
   "outputs": [
    {
     "name": "stdout",
     "output_type": "stream",
     "text": [
      "Jupyter environment detected. Enabling Open3D WebVisualizer.\n",
      "[Open3D INFO] WebRTC GUI backend enabled.\n",
      "[Open3D INFO] WebRTCWindowSystem: HTTP handshake server disabled.\n"
     ]
    }
   ],
   "source": [
    "import os\n",
    "from plyfile import PlyData\n",
    "import open3d as o3d\n",
    "from plyfile import PlyData, PlyElement\n",
    "import pandas as pd\n",
    "import numpy as np\n",
    "import scipy.io as sio"
   ]
  },
  {
   "cell_type": "markdown",
   "id": "1b7cf9bf",
   "metadata": {},
   "source": [
    "Function to convert .ply file to .off file"
   ]
  },
  {
   "cell_type": "code",
   "execution_count": 20,
   "id": "ba63ce60",
   "metadata": {},
   "outputs": [],
   "source": [
    "def ply_to_off(root_dir):\n",
    "    path, dirs, files = next(os.walk(root_dir))\n",
    "    for i in files:\n",
    "        if i.endswith(\".ply\") and not i.startswith(\"._\"):\n",
    "            plydata = PlyData.read(path + i)\n",
    "            file = open(\"/home/aditya/Documents/Master_thesis/data/SMAL_data/ply_files/horses/\" + i[:-4] + \".off\",'w')\n",
    "            file.write(\"OFF\\n\")\n",
    "            file.write(\"%d\\t%d\\t%d\\n\"%(plydata['vertex'].count,plydata['face'].count,0))\n",
    "            for j in range(plydata['vertex'].count):\n",
    "                file.write(str(plydata['vertex']['x'][j]) + \"\\t\" + str(plydata['vertex']['y'][j]) + \"\\t\" + str(plydata['vertex']['z'][j]) + \"\\n\")\n",
    "            for j in range(plydata['face'].count):\n",
    "                file.write(\"3\\t\" + str(plydata['face']['vertex_indices'][j][0]) + \"\\t\" + str(plydata['face']['vertex_indices'][j][1]) + \"\\t\" + str(plydata['face']['vertex_indices'][j][2]) + \"\\n\")\n",
    "    file.close()"
   ]
  },
  {
   "cell_type": "code",
   "execution_count": 21,
   "id": "d4591f1f",
   "metadata": {},
   "outputs": [],
   "source": [
    "# Root dir: Directory where all the .off files are saved\n",
    "root_dir = \"/home/aditya/Documents/Master_thesis/data/SMAL_data/ply_files/horses_ply/\"\n",
    "ply_to_off(root_dir)"
   ]
  },
  {
   "cell_type": "markdown",
   "id": "53fe3a11",
   "metadata": {},
   "source": [
    "Check if the number of vertices and number of points for all the models are same"
   ]
  },
  {
   "cell_type": "code",
   "execution_count": 5,
   "id": "f7cb035a",
   "metadata": {},
   "outputs": [
    {
     "name": "stdout",
     "output_type": "stream",
     "text": [
      "File_name:muybridge_102_03.off\tNumber of points:3889\tNumber of faces:7774\n",
      "File_name:00211799_ferrari.off\tNumber of points:3889\tNumber of faces:7774\n",
      "File_name:muybridge_097_01.off\tNumber of points:3889\tNumber of faces:7774\n",
      "File_name:muybridge_107_110_03.off\tNumber of points:3889\tNumber of faces:7774\n",
      "File_name:Brown-And-White-Akita-Dog_alph.off\tNumber of points:3889\tNumber of faces:7774\n",
      "File_name:muybridge_014_01.off\tNumber of points:3889\tNumber of faces:7774\n",
      "File_name:muybridge_101_03.off\tNumber of points:3889\tNumber of faces:7774\n",
      "File_name:lion6.off\tNumber of points:3889\tNumber of faces:7774\n",
      "File_name:dog_alph.off\tNumber of points:3889\tNumber of faces:7774\n",
      "File_name:cow_alph5.off\tNumber of points:3889\tNumber of faces:7774\n",
      "File_name:muybridge_097_02.off\tNumber of points:3889\tNumber of faces:7774\n",
      "File_name:fox-06.off\tNumber of points:3889\tNumber of faces:7774\n",
      "File_name:cow_alph4.off\tNumber of points:3889\tNumber of faces:7774\n",
      "File_name:cow2.off\tNumber of points:3889\tNumber of faces:7774\n",
      "File_name:00028740_ferrari.off\tNumber of points:3889\tNumber of faces:7774\n",
      "File_name:hippo_walking.off\tNumber of points:3889\tNumber of faces:7774\n",
      "File_name:muybridge_030_02.off\tNumber of points:3889\tNumber of faces:7774\n",
      "File_name:fox-05.off\tNumber of points:3889\tNumber of faces:7774\n",
      "File_name:muybridge_087_04.off\tNumber of points:3889\tNumber of faces:7774\n",
      "File_name:00057894_ferrari.off\tNumber of points:3889\tNumber of faces:7774\n",
      "File_name:cougar.off\tNumber of points:3889\tNumber of faces:7774\n",
      "File_name:lion3.off\tNumber of points:3889\tNumber of faces:7774\n",
      "File_name:NORTHERN-INUIT-DOG-3.off\tNumber of points:3889\tNumber of faces:7774\n",
      "File_name:stalking_wolf_cub_by_nieme.off\tNumber of points:3889\tNumber of faces:7774\n",
      "File_name:hippos.off\tNumber of points:3889\tNumber of faces:7774\n",
      "File_name:wolf_alph2.off\tNumber of points:3889\tNumber of faces:7774\n",
      "File_name:lion_yawn.off\tNumber of points:3889\tNumber of faces:7774\n",
      "File_name:wolf_alph3.off\tNumber of points:3889\tNumber of faces:7774\n",
      "File_name:dog2.off\tNumber of points:3889\tNumber of faces:7774\n",
      "File_name:hippo5.off\tNumber of points:3889\tNumber of faces:7774\n",
      "File_name:00049424_ferrari.off\tNumber of points:3889\tNumber of faces:7774\n",
      "File_name:hippo_alpha.off\tNumber of points:3889\tNumber of faces:7774\n",
      "File_name:hippo_alpha_mouthopen2.off\tNumber of points:3889\tNumber of faces:7774\n",
      "File_name:fox_alph.off\tNumber of points:3889\tNumber of faces:7774\n",
      "File_name:MaleLion800.off\tNumber of points:3889\tNumber of faces:7774\n",
      "File_name:fox.off\tNumber of points:3889\tNumber of faces:7774\n",
      "File_name:grazing.off\tNumber of points:3889\tNumber of faces:7774\n",
      "File_name:00047093_ferrari.off\tNumber of points:3889\tNumber of faces:7774\n",
      "File_name:muybridge_132_133_07.off\tNumber of points:3889\tNumber of faces:7774\n",
      "File_name:Davis_cow_00000.off\tNumber of points:3889\tNumber of faces:7774\n",
      "File_name:450-122410176-lions-natural-habitat.off\tNumber of points:3889\tNumber of faces:7774\n",
      "File_name:muybridge_104_04.off\tNumber of points:3889\tNumber of faces:7774\n",
      "File_name:muybridge_074_01.off\tNumber of points:3889\tNumber of faces:7774\n",
      "File_name:muybridge_076_04.off\tNumber of points:3889\tNumber of faces:7774\n",
      "File_name:timthumb.off\tNumber of points:3889\tNumber of faces:7774\n",
      "File_name:cow_alph.off\tNumber of points:3889\tNumber of faces:7774\n",
      "File_name:muybridge_075_04.off\tNumber of points:3889\tNumber of faces:7774\n",
      "File_name:Hippo_for_Nat.off\tNumber of points:3889\tNumber of faces:7774\n",
      "File_name:muybridge_071_04.off\tNumber of points:3889\tNumber of faces:7774\n"
     ]
    }
   ],
   "source": [
    "path, dirs, files = next(os.walk(root_dir))\n",
    "for i in files:\n",
    "    off_file = o3d.io.read_triangle_mesh(path + i)\n",
    "    print(\"File_name:%s\\tNumber of points:%d\\tNumber of faces:%d\"%(i,np.asarray(off_file.vertices).shape[0],np.asarray(off_file.triangles).shape[0]))"
   ]
  },
  {
   "cell_type": "markdown",
   "id": "fa7750e2",
   "metadata": {},
   "source": [
    "Check if parameterization is same (Intraclass)"
   ]
  },
  {
   "cell_type": "code",
   "execution_count": 6,
   "id": "2c8bd9be",
   "metadata": {},
   "outputs": [],
   "source": [
    "off_file = o3d.io.read_triangle_mesh(\"/home/aditya/Documents/Master_thesis/data/SMAL/hippos_off/hippo_alpha_mouthopen2.off\")"
   ]
  },
  {
   "cell_type": "code",
   "execution_count": 7,
   "id": "42cb81e2",
   "metadata": {},
   "outputs": [],
   "source": [
    "# Get the vertices as a Pandas dataframe\n",
    "vertices = pd.DataFrame(np.asarray(off_file.vertices))"
   ]
  },
  {
   "cell_type": "code",
   "execution_count": 8,
   "id": "af653137",
   "metadata": {},
   "outputs": [],
   "source": [
    "#Get the faces as a Pandas dataframe\n",
    "faces = pd.DataFrame(np.asarray(off_file.triangles))"
   ]
  },
  {
   "cell_type": "code",
   "execution_count": 9,
   "id": "d8fcf035",
   "metadata": {},
   "outputs": [
    {
     "data": {
      "text/plain": [
       "0    252\n",
       "1    251\n",
       "2    250\n",
       "Name: 256, dtype: int32"
      ]
     },
     "execution_count": 9,
     "metadata": {},
     "output_type": "execute_result"
    }
   ],
   "source": [
    "#Obtain the vertex number at a particular index\n",
    "faces.iloc[256]"
   ]
  },
  {
   "cell_type": "code",
   "execution_count": 10,
   "id": "d94b2bbb",
   "metadata": {},
   "outputs": [],
   "source": [
    "file = open(\"/home/aditya/Documents/Master_thesis/results/hippo_alpha_mouthopen2_face.off\",\"w\")\n",
    "file.write(\"OFF\\n\")\n",
    "file.write(\"%d\\t%d\\t%d\\n\"%(3,0,0))\n",
    "\n",
    "file.write(str(vertices.iloc[33][0]) + \"\\t\" + str(vertices.iloc[33][1]) + \"\\t\" + str(vertices.iloc[33][2]) + \"\\n\")\n",
    "file.write(str(vertices.iloc[34][0]) + \"\\t\" + str(vertices.iloc[34][1]) + \"\\t\" + str(vertices.iloc[34][2]) + \"\\n\")\n",
    "file.write(str(vertices.iloc[1796][0]) + \"\\t\" + str(vertices.iloc[1796][1]) + \"\\t\" + str(vertices.iloc[1796][2]) + \"\\n\")\n",
    "file.close()"
   ]
  },
  {
   "cell_type": "code",
   "execution_count": 13,
   "id": "472be1b3",
   "metadata": {},
   "outputs": [],
   "source": [
    "off_file_1 = o3d.io.read_triangle_mesh(\"/home/aditya/Documents/Master_thesis/data/SMAL/cows_off/cow2.off\")"
   ]
  },
  {
   "cell_type": "code",
   "execution_count": 15,
   "id": "8aa4221e",
   "metadata": {},
   "outputs": [],
   "source": [
    "faces_1 = pd.DataFrame(np.asarray(off_file_1.triangles))"
   ]
  },
  {
   "cell_type": "code",
   "execution_count": 16,
   "id": "9a4a66a9",
   "metadata": {},
   "outputs": [
    {
     "data": {
      "text/plain": [
       "0    252\n",
       "1    251\n",
       "2    250\n",
       "Name: 256, dtype: int32"
      ]
     },
     "execution_count": 16,
     "metadata": {},
     "output_type": "execute_result"
    }
   ],
   "source": [
    "#Obtain the vertex numbers at a particular index\n",
    "faces_1.iloc[256]"
   ]
  },
  {
   "cell_type": "markdown",
   "id": "302f92b5",
   "metadata": {},
   "source": [
    "Obtain the number of poses for each animal"
   ]
  },
  {
   "cell_type": "code",
   "execution_count": 8,
   "id": "d0b3b5f3",
   "metadata": {},
   "outputs": [
    {
     "name": "stdout",
     "output_type": "stream",
     "text": [
      "Number of poses for big_cats_off : 9\n",
      "Number of poses for cows_off : 8\n",
      "Number of poses for dogs_off : 16\n",
      "Number of poses for hippos_off : 6\n",
      "Number of poses for horses_off : 10\n"
     ]
    }
   ],
   "source": [
    "directories = ['big_cats_off','cows_off','dogs_off','hippos_off','horses_off']\n",
    "root_path = \"/home/aditya/Documents/Master_thesis/data/SMAL/\"\n",
    "for i in directories:\n",
    "    path, dir, files = next(os.walk(root_path + i))\n",
    "    print(\"Number of poses for \" + i + \" :\",len(files))"
   ]
  },
  {
   "cell_type": "markdown",
   "id": "d26ff295",
   "metadata": {},
   "source": [
    "## FAUST dataset study"
   ]
  },
  {
   "cell_type": "code",
   "execution_count": 2,
   "id": "7fe06d2e",
   "metadata": {},
   "outputs": [],
   "source": [
    "data_1 = np.load(\"/home/aditya/Documents/Master_thesis/results/00.npz\")"
   ]
  },
  {
   "cell_type": "code",
   "execution_count": 3,
   "id": "24018581",
   "metadata": {},
   "outputs": [
    {
     "name": "stdout",
     "output_type": "stream",
     "text": [
      "arr_0\n"
     ]
    }
   ],
   "source": [
    "for i in data_1.files:\n",
    "    print(i)"
   ]
  },
  {
   "cell_type": "code",
   "execution_count": 4,
   "id": "e039092b",
   "metadata": {},
   "outputs": [
    {
     "data": {
      "text/plain": [
       "True"
      ]
     },
     "execution_count": 4,
     "metadata": {},
     "output_type": "execute_result"
    }
   ],
   "source": [
    "pcd = o3d.geometry.PointCloud()\n",
    "pcd.points = o3d.utility.Vector3dVector(data_1['arr_0'])\n",
    "o3d.io.write_point_cloud(\"data_00.ply\", pcd)"
   ]
  },
  {
   "cell_type": "code",
   "execution_count": null,
   "id": "c24cc571",
   "metadata": {},
   "outputs": [],
   "source": []
  }
 ],
 "metadata": {
  "interpreter": {
   "hash": "a50ec88170daea9a9b1a6275b3478efd0440bcae31867d46a80930cca37642e1"
  },
  "kernelspec": {
   "display_name": "Python 3.9.11 ('master_thesis')",
   "language": "python",
   "name": "python3"
  },
  "language_info": {
   "codemirror_mode": {
    "name": "ipython",
    "version": 3
   },
   "file_extension": ".py",
   "mimetype": "text/x-python",
   "name": "python",
   "nbconvert_exporter": "python",
   "pygments_lexer": "ipython3",
   "version": "3.9.11"
  }
 },
 "nbformat": 4,
 "nbformat_minor": 5
}
